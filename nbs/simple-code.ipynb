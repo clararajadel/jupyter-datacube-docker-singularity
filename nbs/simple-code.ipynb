{
 "cells": [
  {
   "cell_type": "code",
   "execution_count": 1,
   "id": "0acb510c",
   "metadata": {},
   "outputs": [
    {
     "name": "stderr",
     "output_type": "stream",
     "text": [
      "/app/opt/venv/lib/python3.8/site-packages/datacube/drivers/postgres/_connections.py:81: SADeprecationWarning: Calling URL() directly is deprecated and will be disabled in a future release.  The public constructor for URL is now the URL.create() method.\n",
      "  EngineUrl(\n"
     ]
    }
   ],
   "source": [
    "import datacube\n",
    "acube = datacube.Datacube(app='boku', env='acube')"
   ]
  },
  {
   "cell_type": "code",
   "execution_count": 2,
   "id": "09a9372f",
   "metadata": {},
   "outputs": [],
   "source": [
    "import datetime\n",
    "from datetime import timedelta, date\n",
    "from datacube.utils.cog import write_cog\n",
    "from pylab import *\n",
    "import numpy as np\n",
    "import os\n",
    "import matplotlib.colors as clr\n",
    "import itertools\n",
    "import csv"
   ]
  },
  {
   "cell_type": "code",
   "execution_count": 4,
   "id": "4150d7ea",
   "metadata": {},
   "outputs": [],
   "source": [
    "def query_data (latitude, longitude, date):\n",
    "    query = {\n",
    "        'product': 'B_Sentinel_2',\n",
    "        'output_crs': 'EPSG:32633',\n",
    "        'resolution': (-10, 10),\n",
    "        'lon': longitude,\n",
    "        'lat': latitude,\n",
    "        'time': date,\n",
    "        'measurements': ['B02', 'B03', 'B04', 'B05', 'B06', 'B07', 'B08', 'B8A', 'B11', 'B12'],\n",
    "        'cloud_cover_percentage': (0.0, 50.0)\n",
    "    }\n",
    "    data = acube.load(**query)\n",
    "    data_array = np.array(data.to_array(), dtype='float')\n",
    "    for dataset in acube.find_datasets_lazy(**query):\n",
    "        geo = dataset.metadata_doc['extent']['coord']['ll']\n",
    "    return data_array, geo"
   ]
  },
  {
   "cell_type": "code",
   "execution_count": 6,
   "id": "9ba7d61f",
   "metadata": {
    "scrolled": true
   },
   "outputs": [],
   "source": [
    "longitude, latitude = ((13.188319446101904, 13.270605126288197),(45.79732853116177, 45.96216938579245))\n",
    "array, geo = query_data(latitude, longitude, '2019-06-05')"
   ]
  },
  {
   "cell_type": "code",
   "execution_count": 8,
   "id": "0d42d71b",
   "metadata": {},
   "outputs": [
    {
     "data": {
      "text/plain": [
       "(10, 1, 1846, 680)"
      ]
     },
     "execution_count": 8,
     "metadata": {},
     "output_type": "execute_result"
    }
   ],
   "source": [
    "array.shape"
   ]
  },
  {
   "cell_type": "code",
   "execution_count": 9,
   "id": "a6aba061",
   "metadata": {},
   "outputs": [
    {
     "data": {
      "text/plain": [
       "<matplotlib.image.AxesImage at 0x7fec84ac0310>"
      ]
     },
     "execution_count": 9,
     "metadata": {},
     "output_type": "execute_result"
    },
    {
     "data": {
      "image/png": "[encoded data removed]",
      "text/plain": [
       "<Figure size 432x288 with 1 Axes>"
      ]
     },
     "metadata": {
      "needs_background": "light"
     },
     "output_type": "display_data"
    }
   ],
   "source": [
    "plt.imshow(array[0][0])"
   ]
  },
  {
   "cell_type": "code",
   "execution_count": null,
   "id": "24af7de5",
   "metadata": {},
   "outputs": [],
   "source": []
  }
 ],
 "metadata": {
  "kernelspec": {
   "display_name": "odc-kernel",
   "language": "python",
   "name": "odc-kernel"
  },
  "language_info": {
   "codemirror_mode": {
    "name": "ipython",
    "version": 3
   },
   "file_extension": ".py",
   "mimetype": "text/x-python",
   "name": "python",
   "nbconvert_exporter": "python",
   "pygments_lexer": "ipython3",
   "version": "3.8.5"
  }
 },
 "nbformat": 4,
 "nbformat_minor": 5
}
