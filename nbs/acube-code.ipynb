{
 "cells": [
  {
   "cell_type": "markdown",
   "id": "wireless-andorra",
   "metadata": {},
   "source": [
    "# Libraries"
   ]
  },
  {
   "cell_type": "code",
   "execution_count": 19,
   "id": "dcf90329",
   "metadata": {},
   "outputs": [
    {
     "name": "stderr",
     "output_type": "stream",
     "text": [
      "/app/opt/venv/lib/python3.8/site-packages/datacube/drivers/postgres/_connections.py:81: SADeprecationWarning: Calling URL() directly is deprecated and will be disabled in a future release.  The public constructor for URL is now the URL.create() method.\n",
      "  EngineUrl(\n"
     ]
    }
   ],
   "source": [
    "import datacube\n",
    "acube = datacube.Datacube(app='boku', env='acube')\n",
    "from acube_tools import query_data\n",
    "from acube_tools import image_selection_byCloud"
   ]
  },
  {
   "cell_type": "code",
   "execution_count": 20,
   "id": "6de3d964",
   "metadata": {},
   "outputs": [],
   "source": [
    "import matplotlib.pyplot as plt\n",
    "import math\n",
    "import datetime\n",
    "from datetime import timedelta, date\n",
    "from datacube.utils.cog import write_cog\n",
    "import gdal\n",
    "from pylab import *\n",
    "import numpy as np\n",
    "import os\n",
    "import matplotlib.colors as clr\n",
    "import itertools\n",
    "import csv\n",
    "from osgeo import ogr\n",
    "import joblib"
   ]
  },
  {
   "cell_type": "code",
   "execution_count": 21,
   "id": "4c215203",
   "metadata": {},
   "outputs": [],
   "source": [
    "from acube_tools import get_long_lat\n",
    "from acube_tools import VegetationIndex\n",
    "from acube_tools import maskGeneration\n",
    "from acube_tools import loadGeoTiff\n",
    "from acube_tools import ind_VfoldCross\n",
    "from acube_tools import RandomForestClassification\n",
    "#from acube_tools import plot_confusion_matrix\n",
    "from acube_tools import rf_save_results\n",
    "from acube_tools import diff_emma\n",
    "from acube_tools import writeout\n",
    "from acube_tools import scale\n",
    "#from Tools import write_tiff\n",
    "#from Tools import RGBplot"
   ]
  },
  {
   "cell_type": "code",
   "execution_count": 22,
   "id": "77f58921",
   "metadata": {},
   "outputs": [],
   "source": [
    "from sklearn.metrics import confusion_matrix\n",
    "from sklearn.metrics import accuracy_score\n",
    "from sklearn.metrics import cohen_kappa_score\n",
    "from sklearn.ensemble import RandomForestClassifier"
   ]
  },
  {
   "cell_type": "markdown",
   "id": "confirmed-deficit",
   "metadata": {},
   "source": [
    "# User input data"
   ]
  },
  {
   "cell_type": "markdown",
   "id": "6c717de3",
   "metadata": {},
   "source": [
    "- más adelante (en el acube hacer un identifier con el area y las fechas de las que sale el RF). Ejemplo:\n",
    "- identifier = f'ID_dates_{start_date}-{end_date}_area_{latitude}-{longitude}'\n",
    "- Acube returns B02, B03, B04, B05, B06, B07, B08, B8A, B11 and B12 for Sentinel 2\n",
    "- num_images = 2 ##no lo uso pero lo puedo anyadir\n",
    "- Aditional info\n",
    "    - Flood event: Carinthia: 29-10-2018\n",
    "    - Branau:    01-06-2016\n",
    "    - Strobler:  27-07-2019"
   ]
  },
  {
   "cell_type": "code",
   "execution_count": 4,
   "id": "mounted-horror",
   "metadata": {},
   "outputs": [],
   "source": [
    "fdate = date(2019, 7, 27) # inserted by user\n",
    "area = 'Carinthia'\n",
    "subarea = 'Gail'\n",
    "path_out = '/home/boku/jupyter-datacube-docker-singularity/results/'\n",
    "identifier = f'ejemplo' \n",
    "cpercen = 20"
   ]
  },
  {
   "cell_type": "code",
   "execution_count": 28,
   "id": "9fab1721",
   "metadata": {},
   "outputs": [
    {
     "name": "stdout",
     "output_type": "stream",
     "text": [
      "longitude (13.188319446101904, 13.270605126288197)\n",
      "latitude (45.79732853116177, 45.96216938579245)\n"
     ]
    }
   ],
   "source": [
    "#WARNING!! NO PUEDO DEFINIR EL AREA A PARTIR DE LA MASCARA\n",
    "mask_tif = f'/home/boku/jupyter-datacube-docker-singularity/masks/temp/mask_{area}.tif' \n",
    "longitude, latitude = get_long_lat(mask_tif)\n",
    "print('longitude', longitude)\n",
    "print('latitude', latitude)"
   ]
  },
  {
   "cell_type": "markdown",
   "id": "deadly-wichita",
   "metadata": {},
   "source": [
    "# Code"
   ]
  },
  {
   "cell_type": "code",
   "execution_count": 6,
   "id": "cross-isolation",
   "metadata": {},
   "outputs": [],
   "source": [
    "# Hardcoded variables\n",
    "bands = ['B2', 'B3', 'B4', 'B5', 'B6', 'B7', 'B8',' B8A', 'B11', 'B12']\n",
    "features = ['NDVI', 'NDWI', 'NDMI', 'TCARI', 'SAVI', 'KNDVI', 'MSAVI2']\n",
    "target_names=['no_flood','flood']\n",
    "path_gpkg = '/home/boku/bmlrt/'\n",
    "path_shapefiles = '/home/boku/jupyter-datacube-docker-singularity/shapefiles/'"
   ]
  },
  {
   "cell_type": "code",
   "execution_count": 29,
   "id": "9d62be7d",
   "metadata": {},
   "outputs": [
    {
     "data": {
      "text/plain": [
       "'2019-06-05'"
      ]
     },
     "execution_count": 29,
     "metadata": {},
     "output_type": "execute_result"
    }
   ],
   "source": [
    "day_b"
   ]
  },
  {
   "cell_type": "code",
   "execution_count": 7,
   "id": "arabic-greenhouse",
   "metadata": {
    "scrolled": false
   },
   "outputs": [
    {
     "name": "stdout",
     "output_type": "stream",
     "text": [
      "----------------------------------\n",
      "New Date: 2019-07-27\n",
      "day 2019-07-27 is in acube_dates\n",
      "Calculating cloud coverage...\n",
      "No cloud coverage\n",
      "sentinel 2 band-arrays full of zeros!\n",
      "----------------------------------\n",
      "New Date: 2019-07-26\n",
      "day 2019-07-26 is not in acube_dates\n",
      "----------------------------------\n",
      "New Date: 2019-07-25\n",
      "day 2019-07-25 is in acube_dates\n",
      "Calculating cloud coverage...\n",
      "Cloud coverage (%): 93.42616786693009\n",
      "Cloud coverage more than 20%\n",
      "----------------------------------\n",
      "New Date: 2019-07-24\n",
      "day 2019-07-24 is not in acube_dates\n",
      "----------------------------------\n",
      "New Date: 2019-07-23\n",
      "day 2019-07-23 is in acube_dates\n",
      "Calculating cloud coverage...\n",
      "Cloud coverage (%): 93.44034797017399\n",
      "Cloud coverage more than 20%\n",
      "----------------------------------\n",
      "New Date: 2019-07-22\n",
      "day 2019-07-22 is not in acube_dates\n",
      "----------------------------------\n",
      "New Date: 2019-07-21\n",
      "day 2019-07-21 is not in acube_dates\n",
      "----------------------------------\n",
      "New Date: 2019-07-20\n",
      "day 2019-07-20 is in acube_dates\n",
      "Calculating cloud coverage...\n",
      "Cloud coverage (%): 93.4264068574342\n",
      "Cloud coverage more than 20%\n",
      "----------------------------------\n",
      "New Date: 2019-07-19\n",
      "day 2019-07-19 is not in acube_dates\n",
      "----------------------------------\n",
      "New Date: 2019-07-18\n",
      "day 2019-07-18 is not in acube_dates\n",
      "----------------------------------\n",
      "New Date: 2019-07-17\n",
      "day 2019-07-17 is not in acube_dates\n",
      "----------------------------------\n",
      "New Date: 2019-07-16\n",
      "day 2019-07-16 is in acube_dates\n",
      "Calculating cloud coverage...\n",
      "No cloud coverage\n",
      "sentinel 2 band-arrays full of zeros!\n",
      "----------------------------------\n",
      "New Date: 2019-07-15\n",
      "day 2019-07-15 is not in acube_dates\n",
      "----------------------------------\n",
      "New Date: 2019-07-14\n",
      "day 2019-07-14 is not in acube_dates\n",
      "----------------------------------\n",
      "New Date: 2019-07-13\n",
      "day 2019-07-13 is not in acube_dates\n",
      "----------------------------------\n",
      "New Date: 2019-07-12\n",
      "day 2019-07-12 is in acube_dates\n",
      "Calculating cloud coverage...\n",
      "No cloud coverage\n",
      "sentinel 2 band-arrays full of zeros!\n",
      "----------------------------------\n",
      "New Date: 2019-07-11\n",
      "day 2019-07-11 is not in acube_dates\n",
      "----------------------------------\n",
      "New Date: 2019-07-10\n",
      "day 2019-07-10 is in acube_dates\n",
      "Calculating cloud coverage...\n",
      "Cloud coverage (%): 93.44568542476578\n",
      "Cloud coverage more than 20%\n",
      "----------------------------------\n",
      "New Date: 2019-07-09\n",
      "day 2019-07-09 is not in acube_dates\n",
      "----------------------------------\n",
      "New Date: 2019-07-08\n",
      "day 2019-07-08 is not in acube_dates\n",
      "----------------------------------\n",
      "New Date: 2019-07-07\n",
      "day 2019-07-07 is not in acube_dates\n",
      "----------------------------------\n",
      "New Date: 2019-07-06\n",
      "day 2019-07-06 is not in acube_dates\n",
      "----------------------------------\n",
      "New Date: 2019-07-05\n",
      "day 2019-07-05 is in acube_dates\n",
      "Calculating cloud coverage...\n",
      "No cloud coverage\n",
      "sentinel 2 band-arrays full of zeros!\n",
      "----------------------------------\n",
      "New Date: 2019-07-04\n",
      "day 2019-07-04 is not in acube_dates\n",
      "----------------------------------\n",
      "New Date: 2019-07-03\n",
      "day 2019-07-03 is in acube_dates\n",
      "Calculating cloud coverage...\n",
      "Cloud coverage (%): 93.65416480785164\n",
      "Cloud coverage more than 20%\n",
      "----------------------------------\n",
      "New Date: 2019-07-02\n",
      "day 2019-07-02 is in acube_dates\n",
      "Calculating cloud coverage...\n",
      "No cloud coverage\n",
      "sentinel 2 band-arrays full of zeros!\n",
      "----------------------------------\n",
      "New Date: 2019-07-01\n",
      "day 2019-07-01 is not in acube_dates\n",
      "----------------------------------\n",
      "New Date: 2019-06-30\n",
      "day 2019-06-30 is in acube_dates\n",
      "Calculating cloud coverage...\n",
      "Cloud coverage (%): 93.4416225861959\n",
      "Cloud coverage more than 20%\n",
      "----------------------------------\n",
      "New Date: 2019-06-29\n",
      "day 2019-06-29 is not in acube_dates\n",
      "----------------------------------\n",
      "New Date: 2019-06-28\n",
      "day 2019-06-28 is in acube_dates\n",
      "Calculating cloud coverage...\n",
      "Cloud coverage (%): 93.4242559428972\n",
      "Cloud coverage more than 20%\n",
      "----------------------------------\n",
      "New Date: 2019-06-27\n",
      "day 2019-06-27 is in acube_dates\n",
      "Calculating cloud coverage...\n",
      "No cloud coverage\n",
      "sentinel 2 band-arrays full of zeros!\n",
      "----------------------------------\n",
      "New Date: 2019-06-26\n",
      "day 2019-06-26 is in acube_dates\n",
      "Calculating cloud coverage...\n",
      "No cloud coverage\n",
      "sentinel 2 band-arrays full of zeros!\n",
      "----------------------------------\n",
      "New Date: 2019-06-25\n",
      "day 2019-06-25 is in acube_dates\n",
      "Calculating cloud coverage...\n",
      "Cloud coverage (%): 93.4400293161685\n",
      "Cloud coverage more than 20%\n",
      "----------------------------------\n",
      "New Date: 2019-06-24\n",
      "day 2019-06-24 is not in acube_dates\n",
      "----------------------------------\n",
      "New Date: 2019-06-23\n",
      "day 2019-06-23 is in acube_dates\n",
      "Calculating cloud coverage...\n",
      "No cloud coverage\n",
      "sentinel 2 band-arrays full of zeros!\n",
      "----------------------------------\n",
      "New Date: 2019-06-22\n",
      "day 2019-06-22 is not in acube_dates\n",
      "----------------------------------\n",
      "New Date: 2019-06-21\n",
      "day 2019-06-21 is not in acube_dates\n",
      "----------------------------------\n",
      "New Date: 2019-06-20\n",
      "day 2019-06-20 is in acube_dates\n",
      "Calculating cloud coverage...\n",
      "Cloud coverage (%): 93.42887642597667\n",
      "Cloud coverage more than 20%\n",
      "----------------------------------\n",
      "New Date: 2019-06-19\n",
      "day 2019-06-19 is not in acube_dates\n",
      "----------------------------------\n",
      "New Date: 2019-06-18\n",
      "day 2019-06-18 is in acube_dates\n",
      "Calculating cloud coverage...\n",
      "Cloud coverage (%): 94.33289783952584\n",
      "Cloud coverage more than 20%\n",
      "----------------------------------\n",
      "New Date: 2019-06-17\n",
      "day 2019-06-17 is not in acube_dates\n",
      "----------------------------------\n",
      "New Date: 2019-06-16\n",
      "day 2019-06-16 is not in acube_dates\n",
      "----------------------------------\n",
      "New Date: 2019-06-15\n",
      "day 2019-06-15 is not in acube_dates\n",
      "----------------------------------\n",
      "New Date: 2019-06-14\n",
      "day 2019-06-14 is not in acube_dates\n",
      "----------------------------------\n",
      "New Date: 2019-06-13\n",
      "day 2019-06-13 is in acube_dates\n",
      "Calculating cloud coverage...\n",
      "Cloud coverage (%): 96.31086291504684\n",
      "Cloud coverage more than 20%\n",
      "----------------------------------\n",
      "New Date: 2019-06-12\n",
      "day 2019-06-12 is in acube_dates\n",
      "Calculating cloud coverage...\n",
      "No cloud coverage\n",
      "sentinel 2 band-arrays full of zeros!\n",
      "----------------------------------\n",
      "New Date: 2019-06-11\n",
      "day 2019-06-11 is not in acube_dates\n",
      "----------------------------------\n",
      "New Date: 2019-06-10\n",
      "day 2019-06-10 is not in acube_dates\n",
      "----------------------------------\n",
      "New Date: 2019-06-09\n",
      "day 2019-06-09 is not in acube_dates\n",
      "----------------------------------\n",
      "New Date: 2019-06-08\n",
      "day 2019-06-08 is not in acube_dates\n",
      "----------------------------------\n",
      "New Date: 2019-06-07\n",
      "day 2019-06-07 is not in acube_dates\n",
      "----------------------------------\n",
      "New Date: 2019-06-06\n",
      "day 2019-06-06 is not in acube_dates\n",
      "----------------------------------\n",
      "New Date: 2019-06-05\n",
      "day 2019-06-05 is in acube_dates\n",
      "Calculating cloud coverage...\n",
      "No cloud coverage\n",
      "End\n",
      "----------------------------------\n",
      "New Date: 2019-07-27\n",
      "day 2019-07-27 is in acube_dates\n",
      "Calculating cloud coverage...\n",
      "No cloud coverage\n",
      "sentinel 2 band-arrays full of zeros!\n",
      "----------------------------------\n",
      "New Date: 2019-07-28\n",
      "day 2019-07-28 is not in acube_dates\n",
      "----------------------------------\n",
      "New Date: 2019-07-29\n",
      "day 2019-07-29 is not in acube_dates\n",
      "----------------------------------\n",
      "New Date: 2019-07-30\n",
      "day 2019-07-30 is in acube_dates\n",
      "Calculating cloud coverage...\n",
      "Cloud coverage (%): 94.47900070103881\n",
      "Cloud coverage more than 20%\n",
      "----------------------------------\n",
      "New Date: 2019-07-31\n",
      "day 2019-07-31 is not in acube_dates\n",
      "----------------------------------\n",
      "New Date: 2019-08-01\n",
      "day 2019-08-01 is not in acube_dates\n",
      "----------------------------------\n",
      "New Date: 2019-08-02\n",
      "day 2019-08-02 is not in acube_dates\n",
      "----------------------------------\n",
      "New Date: 2019-08-03\n",
      "day 2019-08-03 is not in acube_dates\n",
      "----------------------------------\n",
      "New Date: 2019-08-04\n",
      "day 2019-08-04 is in acube_dates\n",
      "Calculating cloud coverage...\n",
      "No cloud coverage\n",
      "sentinel 2 band-arrays full of zeros!\n",
      "----------------------------------\n",
      "New Date: 2019-08-05\n",
      "day 2019-08-05 is not in acube_dates\n",
      "----------------------------------\n",
      "New Date: 2019-08-06\n",
      "day 2019-08-06 is in acube_dates\n",
      "Calculating cloud coverage...\n",
      "No cloud coverage\n",
      "sentinel 2 band-arrays full of zeros!\n",
      "----------------------------------\n",
      "New Date: 2019-08-07\n",
      "day 2019-08-07 is not in acube_dates\n",
      "----------------------------------\n",
      "New Date: 2019-08-08\n",
      "day 2019-08-08 is not in acube_dates\n",
      "----------------------------------\n",
      "New Date: 2019-08-09\n",
      "day 2019-08-09 is in acube_dates\n",
      "Calculating cloud coverage...\n",
      "Cloud coverage (%): 1.2668089987891147\n",
      "Cloud coverage less than 20%\n"
     ]
    },
    {
     "name": "stdout",
     "output_type": "stream",
     "text": [
      "End\n",
      "Shape s2 array before event: (10, 1846, 680)\n",
      "Shape s2 array after event: (10, 1846, 680)\n"
     ]
    }
   ],
   "source": [
    "# Data after and before event:\n",
    "day_b, s2_b, cloud_b, s2_geo_b = image_selection_byCloud (fdate, latitude, longitude, cpercen, 'before')\n",
    "day_a, s2_a, cloud_a, s2_geo_a = image_selection_byCloud (fdate, latitude, longitude, cpercen, 'after')\n",
    "print('Shape s2 array before event:', s2_b.shape)\n",
    "print('Shape s2 array after event:', s2_a.shape)"
   ]
  },
  {
   "cell_type": "code",
   "execution_count": 8,
   "id": "feda3eea",
   "metadata": {},
   "outputs": [
    {
     "data": {
      "text/plain": [
       "(10, 1846, 680)"
      ]
     },
     "execution_count": 8,
     "metadata": {},
     "output_type": "execute_result"
    }
   ],
   "source": [
    "s2_b.shape"
   ]
  },
  {
   "cell_type": "code",
   "execution_count": 9,
   "id": "9e531001",
   "metadata": {},
   "outputs": [],
   "source": [
    "mask_tif = f'/home/boku/jupyter-datacube-docker-singularity/masks/mask_{area}_{subarea}.tif' #WARNING!! NO PUEDO DEFINIR EL AREA A PARTIR DE LA MASCARA"
   ]
  },
  {
   "cell_type": "code",
   "execution_count": 10,
   "id": "environmental-controversy",
   "metadata": {
    "scrolled": true
   },
   "outputs": [
    {
     "name": "stdout",
     "output_type": "stream",
     "text": [
      "the mask is generated\n"
     ]
    }
   ],
   "source": [
    "# Mask: flood - no flood -- WARNING!!! I CAN NOT USE EMMA FUNCTION\n",
    "if os.path.isfile(mask_tif):\n",
    "    print('the mask is generated')\n",
    "else:\n",
    "    maskGeneration(s2_b, s2_geo_b, area, subarea, path_gpkg, path_shapefiles, mask_tif)"
   ]
  },
  {
   "cell_type": "code",
   "execution_count": 11,
   "id": "dbfa8be9",
   "metadata": {},
   "outputs": [],
   "source": [
    "clas = loadGeoTiff(mask_tif)\n",
    "Y_total = np.reshape(clas, (clas.shape[0]*clas.shape[1], 1)).ravel()"
   ]
  },
  {
   "cell_type": "code",
   "execution_count": 12,
   "id": "211ab05a",
   "metadata": {},
   "outputs": [
    {
     "data": {
      "text/plain": [
       "(1846, 680)"
      ]
     },
     "execution_count": 12,
     "metadata": {},
     "output_type": "execute_result"
    }
   ],
   "source": [
    "clas=np.transpose(clas)\n",
    "clas.shape"
   ]
  },
  {
   "cell_type": "code",
   "execution_count": 13,
   "id": "contained-victory",
   "metadata": {},
   "outputs": [],
   "source": [
    "# Add vegetation indices\n",
    "vi_b = VegetationIndex(s2_b, bands, features)\n",
    "vi_a = VegetationIndex(s2_a, bands, features)"
   ]
  },
  {
   "cell_type": "code",
   "execution_count": 14,
   "id": "fabulous-breed",
   "metadata": {},
   "outputs": [
    {
     "name": "stdout",
     "output_type": "stream",
     "text": [
      "Data shape: (1255280, 17)\n"
     ]
    }
   ],
   "source": [
    "# Get difference\n",
    "data = vi_a - vi_b\n",
    "print('Data shape:', data.shape)"
   ]
  },
  {
   "cell_type": "code",
   "execution_count": 15,
   "id": "correct-encoding",
   "metadata": {},
   "outputs": [],
   "source": [
    "# Clean all data (Nan): spectral, indices and mask\n",
    "X_clean = data[~np.isnan(data).any(axis=1)]\n",
    "Y_clean = Y_total[~np.isnan(data).any(axis=1)]"
   ]
  },
  {
   "cell_type": "code",
   "execution_count": 16,
   "id": "experimental-twenty",
   "metadata": {},
   "outputs": [],
   "source": [
    "# Select training data:\n",
    "list_of_train = ind_VfoldCross(Y_clean, 1500) # WARNING!!! THINK HOW TO PRODUCE THIS NUMBER\n",
    "\n",
    "X_train = X_clean[list_of_train, :]\n",
    "Y_train = Y_clean[list_of_train]"
   ]
  },
  {
   "cell_type": "code",
   "execution_count": 17,
   "id": "sublime-swimming",
   "metadata": {},
   "outputs": [
    {
     "name": "stdout",
     "output_type": "stream",
     "text": [
      "Cross validation...\n",
      "CV done!\n",
      "Training!\n",
      "Predicting!\n"
     ]
    }
   ],
   "source": [
    "# Optimize and train the classifier:\n",
    "Nt = [int(i) for i in np.round(np.linspace(50, 500, num=30))]\n",
    "mtr = [int(i) for i in np.linspace(1, X_train.shape[1]-1, num=6)]\n",
    "\n",
    "[cl_Final, param] = RandomForestClassification(X_train, Y_train,mtr, -1, 5, Nt)"
   ]
  },
  {
   "cell_type": "code",
   "execution_count": 23,
   "id": "funky-seating",
   "metadata": {},
   "outputs": [],
   "source": [
    "# Select test data:\n",
    "list_of_test = diff_emma(range(Y_clean.shape[0]), list_of_train)\n",
    "\n",
    "X_test = X_clean[list_of_test, :]\n",
    "Y_test = Y_clean[list_of_test]"
   ]
  },
  {
   "cell_type": "code",
   "execution_count": 24,
   "id": "pending-burke",
   "metadata": {},
   "outputs": [],
   "source": [
    "# Predition in test samples:\n",
    "Ypred = cl_Final.predict(X_test)"
   ]
  },
  {
   "cell_type": "code",
   "execution_count": 27,
   "id": "north-place",
   "metadata": {},
   "outputs": [
    {
     "name": "stdout",
     "output_type": "stream",
     "text": [
      "OA: 100.0\n"
     ]
    },
    {
     "name": "stderr",
     "output_type": "stream",
     "text": [
      "/app/opt/venv/lib/python3.8/site-packages/sklearn/metrics/_classification.py:638: RuntimeWarning: invalid value encountered in true_divide\n",
      "  k = np.sum(w_mat * confusion) / np.sum(w_mat * expected)\n"
     ]
    },
    {
     "name": "stdout",
     "output_type": "stream",
     "text": [
      "kappa: nan\n",
      "CM: [[1253780]]\n"
     ]
    },
    {
     "ename": "IndexError",
     "evalue": "index 1 is out of bounds for axis 0 with size 1",
     "output_type": "error",
     "traceback": [
      "\u001b[0;31m---------------------------------------------------------------------------\u001b[0m",
      "\u001b[0;31mIndexError\u001b[0m                                Traceback (most recent call last)",
      "\u001b[0;32m<ipython-input-27-b5148182677e>\u001b[0m in \u001b[0;36m<module>\u001b[0;34m\u001b[0m\n\u001b[1;32m     10\u001b[0m \u001b[0mprint\u001b[0m\u001b[0;34m(\u001b[0m\u001b[0;34m'CM:'\u001b[0m\u001b[0;34m,\u001b[0m \u001b[0mCM\u001b[0m\u001b[0;34m)\u001b[0m\u001b[0;34m\u001b[0m\u001b[0;34m\u001b[0m\u001b[0m\n\u001b[1;32m     11\u001b[0m \u001b[0;34m\u001b[0m\u001b[0m\n\u001b[0;32m---> 12\u001b[0;31m \u001b[0mOA1c\u001b[0m \u001b[0;34m=\u001b[0m \u001b[0mCM\u001b[0m\u001b[0;34m[\u001b[0m\u001b[0;36m1\u001b[0m\u001b[0;34m,\u001b[0m \u001b[0;36m1\u001b[0m\u001b[0;34m]\u001b[0m \u001b[0;34m/\u001b[0m \u001b[0;34m(\u001b[0m\u001b[0mCM\u001b[0m\u001b[0;34m[\u001b[0m\u001b[0;36m1\u001b[0m\u001b[0;34m,\u001b[0m \u001b[0;36m0\u001b[0m\u001b[0;34m]\u001b[0m \u001b[0;34m+\u001b[0m \u001b[0mCM\u001b[0m\u001b[0;34m[\u001b[0m\u001b[0;36m1\u001b[0m\u001b[0;34m,\u001b[0m \u001b[0;36m1\u001b[0m\u001b[0;34m]\u001b[0m\u001b[0;34m)\u001b[0m\u001b[0;34m\u001b[0m\u001b[0;34m\u001b[0m\u001b[0m\n\u001b[0m\u001b[1;32m     13\u001b[0m \u001b[0mprint\u001b[0m\u001b[0;34m(\u001b[0m\u001b[0;34m'OA1c*100:'\u001b[0m\u001b[0;34m,\u001b[0m \u001b[0mOA1c\u001b[0m\u001b[0;34m*\u001b[0m\u001b[0;36m100\u001b[0m\u001b[0;34m)\u001b[0m\u001b[0;34m\u001b[0m\u001b[0;34m\u001b[0m\u001b[0m\n\u001b[1;32m     14\u001b[0m \u001b[0mPEN1c\u001b[0m \u001b[0;34m=\u001b[0m \u001b[0mexp\u001b[0m\u001b[0;34m(\u001b[0m\u001b[0;34m-\u001b[0m\u001b[0;34m(\u001b[0m\u001b[0mCM\u001b[0m\u001b[0;34m[\u001b[0m\u001b[0;36m0\u001b[0m\u001b[0;34m,\u001b[0m \u001b[0;36m1\u001b[0m\u001b[0;34m]\u001b[0m \u001b[0;34m/\u001b[0m \u001b[0;34m(\u001b[0m\u001b[0;34m-\u001b[0m\u001b[0;34m(\u001b[0m\u001b[0mCM\u001b[0m\u001b[0;34m[\u001b[0m\u001b[0;36m1\u001b[0m\u001b[0;34m,\u001b[0m \u001b[0;36m0\u001b[0m\u001b[0;34m]\u001b[0m \u001b[0;34m+\u001b[0m \u001b[0mCM\u001b[0m\u001b[0;34m[\u001b[0m\u001b[0;36m1\u001b[0m\u001b[0;34m,\u001b[0m \u001b[0;36m1\u001b[0m\u001b[0;34m]\u001b[0m\u001b[0;34m)\u001b[0m \u001b[0;34m/\u001b[0m \u001b[0mlog\u001b[0m\u001b[0;34m(\u001b[0m\u001b[0;36m1\u001b[0m \u001b[0;34m/\u001b[0m \u001b[0;36m2\u001b[0m\u001b[0;34m)\u001b[0m\u001b[0;34m)\u001b[0m\u001b[0;34m)\u001b[0m\u001b[0;34m)\u001b[0m\u001b[0;34m\u001b[0m\u001b[0;34m\u001b[0m\u001b[0m\n",
      "\u001b[0;31mIndexError\u001b[0m: index 1 is out of bounds for axis 0 with size 1"
     ]
    }
   ],
   "source": [
    "# Statistics:\n",
    "\n",
    "OA = accuracy_score(Y_test, Ypred)*100\n",
    "print('OA:', OA)\n",
    "\n",
    "kappa = cohen_kappa_score(Y_test, Ypred)\n",
    "print('kappa:', kappa)\n",
    "\n",
    "CM = confusion_matrix(Y_test, Ypred)\n",
    "print('CM:', CM)\n",
    "\n",
    "OA1c = CM[1, 1] / (CM[1, 0] + CM[1, 1])\n",
    "print('OA1c*100:', OA1c*100)\n",
    "PEN1c = exp(-(CM[0, 1] / (-(CM[1, 0] + CM[1, 1]) / log(1 / 2))))\n",
    "print('PEN1c:', PEN1c)\n",
    "# PEN1c = exp(-(CM[0, 1] / (-(sum(CM)) / log(1 / 2))))\n",
    "SR1c = OA1c - (1 - PEN1c)\n",
    "\n",
    "print('SR1c*100:', SR1c*100)"
   ]
  },
  {
   "cell_type": "code",
   "execution_count": null,
   "id": "banned-bargain",
   "metadata": {},
   "outputs": [],
   "source": [
    "# Save results RF --WARNING!! ADD SAVE RF CLASSIFIER\n",
    "rf_save_results(CM, OA1c, kappa, PEN1c, SR1c, target_names, path_out, identifier)"
   ]
  },
  {
   "cell_type": "code",
   "execution_count": null,
   "id": "occupied-supplier",
   "metadata": {},
   "outputs": [],
   "source": [
    "# Prediction map:\n",
    "base_array[np.isnan(base_array)] = 999999999\n",
    "Ypred = cl_Final.predict(base_array)\n",
    "ProbPred = cl_Final.predict_proba(base_array)\n",
    "Ypred[(base_array == 999999999).any(axis=1)] = 0\n",
    "Y_clas = np.reshape(Ypred, (y1.shape[1], y1.shape[2]))\n",
    "\n",
    "Prob_clas = np.reshape(ProbPred, (y1.shape[1], y1.shape[2], 2))"
   ]
  },
  {
   "cell_type": "code",
   "execution_count": null,
   "id": "blind-difficulty",
   "metadata": {},
   "outputs": [],
   "source": [
    "# Scale the flood prob between 0 and 1:\n",
    "Prob_flood_ns = Prob_clas[np.where(Y_clas == 1)[0], np.where(Y_clas == 1)[1], 1]\n",
    "Prob_flood_ns = np.reshape(Prob_flood_ns, (Prob_flood_ns.shape[0], 1))\n",
    "Prob_flood = scale(Prob_flood_ns)\n",
    "Prob_fl = np.zeros((y1.shape[1], y1.shape[2]))\n",
    "\n",
    "Prob_fl[np.where(Y_clas == 1)[0], np.where(Y_clas == 1)[1]] = np.reshape(Prob_flood[0], (Prob_flood[0].shape[0]))"
   ]
  },
  {
   "cell_type": "code",
   "execution_count": null,
   "id": "military-glory",
   "metadata": {},
   "outputs": [],
   "source": [
    "# Plotting classification and probablity results:\n",
    "rcParams.update({'figure.autolayout': True})\n",
    "colors1 = ['#000080', '#FFFFFF', '#FFFF00']\n",
    "colors1 = [colors1[int(i-1)] for i in np.unique(Y_clas[~np.isnan(Y_clas)])]\n",
    "\n",
    "cmap = clr.ListedColormap(colors1)\n",
    "\n",
    "cmap = cm.get_cmap(cmap, len(np.unique(Y_clas[~np.isnan(Y_clas)])))\n",
    "\n",
    "f = plt.figure()\n",
    "plt.imshow(clas, cmap=cmap)\n",
    "plt.axis('off')\n",
    "\n",
    "f = plt.figure()\n",
    "plt.imshow(Y_clas, cmap=cmap)\n",
    "plt.axis('off')\n",
    "\n",
    "f = plt.figure()\n",
    "plt.imshow(Prob_fl)\n",
    "plt.axis('off')\n",
    "plt.show()"
   ]
  },
  {
   "cell_type": "code",
   "execution_count": null,
   "id": "committed-exchange",
   "metadata": {},
   "outputs": [],
   "source": [
    "writeout(clas, path_out, identifier, s2_geo_b['lon'], s2_geo_b['lat'])"
   ]
  },
  {
   "cell_type": "code",
   "execution_count": null,
   "id": "identified-nutrition",
   "metadata": {},
   "outputs": [],
   "source": [
    "'''# Save the classification map in tiff:\n",
    "tifsrc = gdal.Open(root_image)\n",
    "\n",
    "if 0 == 1:\n",
    "    write_tiff(clas, tifsrc, path_out, name_out)\n",
    "\n",
    "    name = 'prediction.tif'\n",
    "    write_tiff(Y_clas, tifsrc, path_out, name_out)\n",
    "\n",
    "    name = 'probability.tif'\n",
    "    write_tiff(Prob_fl, tifsrc, path_out, name_out)'''"
   ]
  }
 ],
 "metadata": {
  "kernelspec": {
   "display_name": "odc-kernel",
   "language": "python",
   "name": "odc-kernel"
  },
  "language_info": {
   "codemirror_mode": {
    "name": "ipython",
    "version": 3
   },
   "file_extension": ".py",
   "mimetype": "text/x-python",
   "name": "python",
   "nbconvert_exporter": "python",
   "pygments_lexer": "ipython3",
   "version": "3.8.5"
  }
 },
 "nbformat": 4,
 "nbformat_minor": 5
}
