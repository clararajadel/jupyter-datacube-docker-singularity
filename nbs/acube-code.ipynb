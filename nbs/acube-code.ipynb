{
 "cells": [
  {
   "cell_type": "markdown",
   "id": "confirmed-deficit",
   "metadata": {},
   "source": [
    "# User input data"
   ]
  },
  {
   "cell_type": "code",
   "execution_count": null,
   "id": "mounted-horror",
   "metadata": {},
   "outputs": [],
   "source": [
    "fdate = date(2019, 10, 20) # inserted by user\n",
    "latitude = (47.7, 47.72)\n",
    "longitude = (13.49, 13.52)\n",
    "mask_tif = r'C:\\Users\\Emma\\Desktop\\ACube4Floods\\code\\mask_Strobler.tif'\n",
    "target_names=['no_flood','flood']\n",
    "path_out = '/home/boku/jupyter-datacube-docker-singularity/results'\n",
    "identifier = f'ejemplo' #más adelante (en el acube hacer un identifier con el area y las fechas de las que sale el RF)\n",
    "#identifier = f'ID_dates_{start_date}-{end_date}_area_{latitude}-{longitude}'\n",
    "#num_images = 2 ##no lo uso pero lo puedo anyadir"
   ]
  },
  {
   "cell_type": "code",
   "execution_count": null,
   "id": "golden-technique",
   "metadata": {},
   "outputs": [],
   "source": [
    "opt = 0  # # Visualization parameter"
   ]
  },
  {
   "cell_type": "markdown",
   "id": "outdoor-helmet",
   "metadata": {},
   "source": [
    "#### Aditional info"
   ]
  },
  {
   "cell_type": "code",
   "execution_count": 1,
   "id": "becoming-edinburgh",
   "metadata": {},
   "outputs": [],
   "source": [
    "# # Flood event: Carinthia: 29102018\n",
    "# #              Branau:    01062016\n",
    "# #              Strobler:  27072019"
   ]
  },
  {
   "cell_type": "markdown",
   "id": "wireless-andorra",
   "metadata": {},
   "source": [
    "# Libraries"
   ]
  },
  {
   "cell_type": "code",
   "execution_count": 1,
   "id": "scientific-motion",
   "metadata": {},
   "outputs": [
    {
     "name": "stderr",
     "output_type": "stream",
     "text": [
      "/app/opt/venv/lib/python3.8/site-packages/datacube/drivers/postgres/_connections.py:81: SADeprecationWarning: Calling URL() directly is deprecated and will be disabled in a future release.  The public constructor for URL is now the URL.create() method.\n",
      "  EngineUrl(\n"
     ]
    },
    {
     "ename": "NameError",
     "evalue": "name 'null' is not defined",
     "output_type": "error",
     "traceback": [
      "\u001b[0;31m---------------------------------------------------------------------------\u001b[0m",
      "\u001b[0;31mNameError\u001b[0m                                 Traceback (most recent call last)",
      "\u001b[0;32m<ipython-input-1-2ba8eddb709d>\u001b[0m in \u001b[0;36m<module>\u001b[0;34m\u001b[0m\n\u001b[1;32m     14\u001b[0m \u001b[0;32mimport\u001b[0m \u001b[0mcsv\u001b[0m\u001b[0;34m\u001b[0m\u001b[0;34m\u001b[0m\u001b[0m\n\u001b[1;32m     15\u001b[0m \u001b[0;34m\u001b[0m\u001b[0m\n\u001b[0;32m---> 16\u001b[0;31m \u001b[0;32mfrom\u001b[0m \u001b[0macube_tools\u001b[0m \u001b[0;32mimport\u001b[0m \u001b[0mquery_data\u001b[0m\u001b[0;34m\u001b[0m\u001b[0;34m\u001b[0m\u001b[0m\n\u001b[0m\u001b[1;32m     17\u001b[0m \u001b[0;32mfrom\u001b[0m \u001b[0macube_tools\u001b[0m \u001b[0;32mimport\u001b[0m \u001b[0mimage_selection_byCloud\u001b[0m\u001b[0;34m\u001b[0m\u001b[0;34m\u001b[0m\u001b[0m\n\u001b[1;32m     18\u001b[0m \u001b[0;32mfrom\u001b[0m \u001b[0macube_tools\u001b[0m \u001b[0;32mimport\u001b[0m \u001b[0mVegetationIndex\u001b[0m\u001b[0;34m\u001b[0m\u001b[0;34m\u001b[0m\u001b[0m\n",
      "\u001b[0;32m~/jupyter-datacube-docker-singularity/nbs/acube_tools.py\u001b[0m in \u001b[0;36m<module>\u001b[0;34m\u001b[0m\n\u001b[1;32m      3\u001b[0m   {\n\u001b[1;32m      4\u001b[0m    \u001b[0;34m\"cell_type\"\u001b[0m\u001b[0;34m:\u001b[0m \u001b[0;34m\"code\"\u001b[0m\u001b[0;34m,\u001b[0m\u001b[0;34m\u001b[0m\u001b[0;34m\u001b[0m\u001b[0m\n\u001b[0;32m----> 5\u001b[0;31m    \u001b[0;34m\"execution_count\"\u001b[0m\u001b[0;34m:\u001b[0m \u001b[0mnull\u001b[0m\u001b[0;34m,\u001b[0m\u001b[0;34m\u001b[0m\u001b[0;34m\u001b[0m\u001b[0m\n\u001b[0m\u001b[1;32m      6\u001b[0m    \u001b[0;34m\"id\"\u001b[0m\u001b[0;34m:\u001b[0m \u001b[0;34m\"arbitrary-hazard\"\u001b[0m\u001b[0;34m,\u001b[0m\u001b[0;34m\u001b[0m\u001b[0;34m\u001b[0m\u001b[0m\n\u001b[1;32m      7\u001b[0m    \u001b[0;34m\"metadata\"\u001b[0m\u001b[0;34m:\u001b[0m \u001b[0;34m{\u001b[0m\u001b[0;34m}\u001b[0m\u001b[0;34m,\u001b[0m\u001b[0;34m\u001b[0m\u001b[0;34m\u001b[0m\u001b[0m\n",
      "\u001b[0;31mNameError\u001b[0m: name 'null' is not defined"
     ]
    }
   ],
   "source": [
    "import datacube\n",
    "acube = datacube.Datacube(app='sample_9', env='acube')\n",
    "import matplotlib.pyplot as plt\n",
    "import math\n",
    "import datetime\n",
    "from datetime import timedelta, date\n",
    "from datacube.utils.cog import write_cog\n",
    "import gdal\n",
    "from pylab import *\n",
    "import numpy as np\n",
    "import os\n",
    "import matplotlib.colors as clr\n",
    "import itertools\n",
    "import csv\n",
    "\n",
    "from acube_tools import query_data\n",
    "from acube_tools import image_selection_byCloud\n",
    "from acube_tools import VegetationIndex\n",
    "from acube_tools import maskGeneration\n",
    "from acube_tools import loadGeoTiff\n",
    "from acube_tools import ind_VfoldCross\n",
    "from acube_tools import RandomForestClassification\n",
    "from acube_tools import plot_confusion_matrix\n",
    "from acube_tools import rf_save_results\n",
    "from acube_tools import diff_emma\n",
    "from acube_tools import writeout\n",
    "from acube_tools import scale\n",
    "#from Tools import write_tiff\n",
    "#from Tools import RGBplot\n",
    "\n",
    "from sklearn.metrics import confusion_matrix\n",
    "from sklearn.metrics import accuracy_score\n",
    "from sklearn.metrics import cohen_kappa_score"
   ]
  },
  {
   "cell_type": "markdown",
   "id": "deadly-wichita",
   "metadata": {},
   "source": [
    "# Code"
   ]
  },
  {
   "cell_type": "code",
   "execution_count": null,
   "id": "cross-isolation",
   "metadata": {},
   "outputs": [],
   "source": [
    "# Hardcoded variables\n",
    "bands = ['B02', 'B03', 'B04', 'B05', 'B06', 'B07', 'B08',' B8A', 'B11', 'B12']\n",
    "features = ['NDVI', 'NDWI', 'NDMI', 'TCARI', 'SAVI', 'KNDVI', 'MSAVI2']"
   ]
  },
  {
   "cell_type": "code",
   "execution_count": null,
   "id": "arabic-greenhouse",
   "metadata": {},
   "outputs": [],
   "source": [
    "# Data after and before event:\n",
    "day_b, s2_b, cloud_b, s2_geo_b = image_selection_byCloud (fdate, latitude, longitude, cpercen, 'before')\n",
    "day_a, s2_a, cloud_a, s2_geo_a = image_selection_byCloud (fdate, latitude, longitude, cpercen, 'after')\n",
    "print('Acube returns B02, B03, B04, B05, B06, B07, B08, B8A, B11 and B12 for Sentinel 2')\n",
    "print('Shape sentinel 2 array before event:', s2_b.shape)\n",
    "print('Shape sentinel 2 array after event:', s2_a.shape)"
   ]
  },
  {
   "cell_type": "code",
   "execution_count": null,
   "id": "environmental-controversy",
   "metadata": {},
   "outputs": [],
   "source": [
    "'''# Mask: flood - no flood -- WARNING!!! I CAN NOT USE EMMA FUNCTION\n",
    "if os.path.isfile(mask_tif):\n",
    "    print('the mask is generated')\n",
    "else:\n",
    "    maskGeneration(s2_b, s2_geo_b, mask_tif)\n",
    "\n",
    "clas = loadGeoTiff(mask_tif)\n",
    "Y_total = np.reshape(clas, (clas.shape[0]*clas.shape[1], 1)).ravel()'''"
   ]
  },
  {
   "cell_type": "code",
   "execution_count": null,
   "id": "thirty-works",
   "metadata": {},
   "outputs": [],
   "source": [
    "# Mask (change) -- WARNING!! TEMPORAL IT SHOULD BE CHANGED\n",
    "clas = mask_tif\n",
    "Y_total = np.reshape(clas, (clas.shape[0]*clas.shape[1], 1)).ravel()"
   ]
  },
  {
   "cell_type": "code",
   "execution_count": null,
   "id": "affecting-aruba",
   "metadata": {},
   "outputs": [],
   "source": [
    "# Transform data to vector\n",
    "s2_b_vector = s2_b.reshape(s2_b.shape[0], s2_b.shape[1]*s2_b.shape[2])\n",
    "s2_b_vector = np.transpose(s2_b_vector)\n",
    "s2_a_vector = s2_a.reshape(s2_a.shape[0], s2_a.shape[1]*s2_a.shape[2])\n",
    "s2_a_vector = np.transpose(s2_a_vector)\n",
    "print('Data vector shape before event:', s2_b_vector)\n",
    "print('Data vector shape after event:', s2_a_vector)"
   ]
  },
  {
   "cell_type": "code",
   "execution_count": null,
   "id": "contained-victory",
   "metadata": {},
   "outputs": [],
   "source": [
    "# Add vegetation indices\n",
    "vi_b = VegetationIndex(s2_b_vector, bands, features)\n",
    "vi_a = VegetationIndex(s2_a_vector, bands, features)"
   ]
  },
  {
   "cell_type": "code",
   "execution_count": null,
   "id": "dense-lithuania",
   "metadata": {},
   "outputs": [],
   "source": [
    "# Concatenate data, get difference and clean --WARNING!!!!! No transform to bit????\n",
    "data_b = np.concatenate((s2_b_vector, vi_b), axis=1)\n",
    "data_a = np.concatenate((s2_a_vector, vi_a), axis=1)"
   ]
  },
  {
   "cell_type": "code",
   "execution_count": null,
   "id": "fabulous-breed",
   "metadata": {},
   "outputs": [],
   "source": [
    "# Get difference\n",
    "data = data_a - data_b\n",
    "print('Data shape:', data.shape)"
   ]
  },
  {
   "cell_type": "code",
   "execution_count": null,
   "id": "correct-encoding",
   "metadata": {},
   "outputs": [],
   "source": [
    "# Clean all data (Nan): spectral, indices and mask\n",
    "X_clean = data[~np.isnan(data).any(axis=1)]\n",
    "Y_clean = Y_total[~np.isnan(data).any(axis=1)]"
   ]
  },
  {
   "cell_type": "code",
   "execution_count": null,
   "id": "experimental-twenty",
   "metadata": {},
   "outputs": [],
   "source": [
    "# Select training data:\n",
    "list_of_train = ind_VfoldCross(Y_clean, 1500) # WARNING!!! THINK HOW TO PRODUCE THIS NUMBER\n",
    "\n",
    "X_train = X_clean[list_of_train, :]\n",
    "Y_train = Y_clean[list_of_train]"
   ]
  },
  {
   "cell_type": "code",
   "execution_count": null,
   "id": "sublime-swimming",
   "metadata": {},
   "outputs": [],
   "source": [
    "# Optimize and train the classifier:\n",
    "Nt = [int(i) for i in np.round(np.linspace(50, 500, num=30))]\n",
    "mtr = [int(i) for i in np.linspace(1, X_train.shape[1]-1, num=6)]\n",
    "\n",
    "[cl_Final, param] = RandomForestClassification(X_train, Y_train,mtr, -1, 5, Nt)"
   ]
  },
  {
   "cell_type": "code",
   "execution_count": null,
   "id": "funky-seating",
   "metadata": {},
   "outputs": [],
   "source": [
    "# Select test data:\n",
    "list_of_test = diff_emma(range(Y_clean.shape[0]), list_of_train)\n",
    "\n",
    "X_test = X_clean[list_of_test, :]\n",
    "Y_test = Y_clean[list_of_test]"
   ]
  },
  {
   "cell_type": "code",
   "execution_count": null,
   "id": "pending-burke",
   "metadata": {},
   "outputs": [],
   "source": [
    "# Predition in test samples:\n",
    "Ypred = cl_Final.predict(X_test)"
   ]
  },
  {
   "cell_type": "code",
   "execution_count": null,
   "id": "north-place",
   "metadata": {},
   "outputs": [],
   "source": [
    "# Statistics:\n",
    "\n",
    "OA = accuracy_score(Y_test, Ypred)*100\n",
    "print(OA)\n",
    "\n",
    "kappa = cohen_kappa_score(Y_test, Ypred)\n",
    "print(kappa)\n",
    "\n",
    "CM = confusion_matrix(Y_test, Ypred)\n",
    "print(CM)\n",
    "\n",
    "OA1c = CM[1, 1] / (CM[1, 0] + CM[1, 1])\n",
    "print(OA1c*100)\n",
    "PEN1c = exp(-(CM[0, 1] / (-(CM[1, 0] + CM[1, 1]) / log(1 / 2))))\n",
    "print(PEN1c)\n",
    "# PEN1c = exp(-(CM[0, 1] / (-(sum(CM)) / log(1 / 2))))\n",
    "SR1c = OA1c - (1 - PEN1c)\n",
    "\n",
    "print(SR1c*100)"
   ]
  },
  {
   "cell_type": "code",
   "execution_count": null,
   "id": "banned-bargain",
   "metadata": {},
   "outputs": [],
   "source": [
    "# Save results RF --WARNING!! ADD SAVE RF CLASSIFIER\n",
    "rf_save_results(CM, OA1c, kappa, PEN1c, SR1c, target_names, path_out, identifier)"
   ]
  },
  {
   "cell_type": "code",
   "execution_count": null,
   "id": "occupied-supplier",
   "metadata": {},
   "outputs": [],
   "source": [
    "# Prediction map:\n",
    "base_array[np.isnan(base_array)] = 999999999\n",
    "Ypred = cl_Final.predict(base_array)\n",
    "ProbPred = cl_Final.predict_proba(base_array)\n",
    "Ypred[(base_array == 999999999).any(axis=1)] = 0\n",
    "Y_clas = np.reshape(Ypred, (y1.shape[1], y1.shape[2]))\n",
    "\n",
    "Prob_clas = np.reshape(ProbPred, (y1.shape[1], y1.shape[2], 2))"
   ]
  },
  {
   "cell_type": "code",
   "execution_count": null,
   "id": "blind-difficulty",
   "metadata": {},
   "outputs": [],
   "source": [
    "# Scale the flood prob between 0 and 1:\n",
    "Prob_flood_ns = Prob_clas[np.where(Y_clas == 1)[0], np.where(Y_clas == 1)[1], 1]\n",
    "Prob_flood_ns = np.reshape(Prob_flood_ns, (Prob_flood_ns.shape[0], 1))\n",
    "Prob_flood = scale(Prob_flood_ns)\n",
    "Prob_fl = np.zeros((y1.shape[1], y1.shape[2]))\n",
    "\n",
    "Prob_fl[np.where(Y_clas == 1)[0], np.where(Y_clas == 1)[1]] = np.reshape(Prob_flood[0], (Prob_flood[0].shape[0]))"
   ]
  },
  {
   "cell_type": "code",
   "execution_count": null,
   "id": "military-glory",
   "metadata": {},
   "outputs": [],
   "source": [
    "# Plotting classification and probablity results:\n",
    "rcParams.update({'figure.autolayout': True})\n",
    "colors1 = ['#000080', '#FFFFFF', '#FFFF00']\n",
    "colors1 = [colors1[int(i-1)] for i in np.unique(Y_clas[~np.isnan(Y_clas)])]\n",
    "\n",
    "cmap = clr.ListedColormap(colors1)\n",
    "\n",
    "cmap = cm.get_cmap(cmap, len(np.unique(Y_clas[~np.isnan(Y_clas)])))\n",
    "\n",
    "f = plt.figure()\n",
    "plt.imshow(clas, cmap=cmap)\n",
    "plt.axis('off')\n",
    "\n",
    "f = plt.figure()\n",
    "plt.imshow(Y_clas, cmap=cmap)\n",
    "plt.axis('off')\n",
    "\n",
    "f = plt.figure()\n",
    "plt.imshow(Prob_fl)\n",
    "plt.axis('off')\n",
    "plt.show()"
   ]
  },
  {
   "cell_type": "code",
   "execution_count": null,
   "id": "committed-exchange",
   "metadata": {},
   "outputs": [],
   "source": [
    "writeout(clas, path_out, identifier, s2_geo_b['lon'], s2_geo_b['lat'])"
   ]
  },
  {
   "cell_type": "code",
   "execution_count": null,
   "id": "identified-nutrition",
   "metadata": {},
   "outputs": [],
   "source": [
    "'''# Save the classification map in tiff:\n",
    "tifsrc = gdal.Open(root_image)\n",
    "\n",
    "if 0 == 1:\n",
    "    write_tiff(clas, tifsrc, path_out, name_out)\n",
    "\n",
    "    name = 'prediction.tif'\n",
    "    write_tiff(Y_clas, tifsrc, path_out, name_out)\n",
    "\n",
    "    name = 'probability.tif'\n",
    "    write_tiff(Prob_fl, tifsrc, path_out, name_out)'''"
   ]
  }
 ],
 "metadata": {
  "kernelspec": {
   "display_name": "odc-kernel",
   "language": "python",
   "name": "odc-kernel"
  },
  "language_info": {
   "codemirror_mode": {
    "name": "ipython",
    "version": 3
   },
   "file_extension": ".py",
   "mimetype": "text/x-python",
   "name": "python",
   "nbconvert_exporter": "python",
   "pygments_lexer": "ipython3",
   "version": "3.8.5"
  }
 },
 "nbformat": 4,
 "nbformat_minor": 5
}
